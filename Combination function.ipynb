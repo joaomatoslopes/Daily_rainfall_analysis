{
 "cells": [
  {
   "cell_type": "code",
   "execution_count": 1,
   "id": "cff24095",
   "metadata": {},
   "outputs": [],
   "source": [
    "def combinations(n):\n",
    "    if n != int(n) or n < 2 or n > 9:\n",
    "        print(\"The input must be a natural number between 2 and 9 inclusive\")\n",
    "    else:\n",
    "        global lista\n",
    "        lista = []\n",
    "        \n",
    "        max_num = \"\"\n",
    "        for digit in range(n,0,-1):\n",
    "            max_num = str(digit) + max_num\n",
    "        max_num = int(max_num)\n",
    "        \n",
    "        for num in range(12, max_num+1):\n",
    "            token = str(num)\n",
    "            verification = 0\n",
    "            \n",
    "            for position in range(1,len(token)):\n",
    "                if int(token[position]) <= int(token[position-1]) or int(token[position]) > n:\n",
    "                    verification += 1\n",
    "                    break\n",
    "                    \n",
    "            if verification == 0:\n",
    "                new_list = []\n",
    "                for position in range(0,len(token)):\n",
    "                    new_list.append(int(token[position]))\n",
    "                lista.append(new_list)\n",
    "        return(lista)"
   ]
  },
  {
   "cell_type": "code",
   "execution_count": 3,
   "id": "4adad867",
   "metadata": {},
   "outputs": [
    {
     "data": {
      "text/plain": [
       "[[1, 2],\n",
       " [1, 3],\n",
       " [1, 4],\n",
       " [1, 5],\n",
       " [1, 6],\n",
       " [2, 3],\n",
       " [2, 4],\n",
       " [2, 5],\n",
       " [2, 6],\n",
       " [3, 4],\n",
       " [3, 5],\n",
       " [3, 6],\n",
       " [4, 5],\n",
       " [4, 6],\n",
       " [5, 6],\n",
       " [1, 2, 3],\n",
       " [1, 2, 4],\n",
       " [1, 2, 5],\n",
       " [1, 2, 6],\n",
       " [1, 3, 4],\n",
       " [1, 3, 5],\n",
       " [1, 3, 6],\n",
       " [1, 4, 5],\n",
       " [1, 4, 6],\n",
       " [1, 5, 6],\n",
       " [2, 3, 4],\n",
       " [2, 3, 5],\n",
       " [2, 3, 6],\n",
       " [2, 4, 5],\n",
       " [2, 4, 6],\n",
       " [2, 5, 6],\n",
       " [3, 4, 5],\n",
       " [3, 4, 6],\n",
       " [3, 5, 6],\n",
       " [4, 5, 6],\n",
       " [1, 2, 3, 4],\n",
       " [1, 2, 3, 5],\n",
       " [1, 2, 3, 6],\n",
       " [1, 2, 4, 5],\n",
       " [1, 2, 4, 6],\n",
       " [1, 2, 5, 6],\n",
       " [1, 3, 4, 5],\n",
       " [1, 3, 4, 6],\n",
       " [1, 3, 5, 6],\n",
       " [1, 4, 5, 6],\n",
       " [2, 3, 4, 5],\n",
       " [2, 3, 4, 6],\n",
       " [2, 3, 5, 6],\n",
       " [2, 4, 5, 6],\n",
       " [3, 4, 5, 6],\n",
       " [1, 2, 3, 4, 5],\n",
       " [1, 2, 3, 4, 6],\n",
       " [1, 2, 3, 5, 6],\n",
       " [1, 2, 4, 5, 6],\n",
       " [1, 3, 4, 5, 6],\n",
       " [2, 3, 4, 5, 6],\n",
       " [1, 2, 3, 4, 5, 6]]"
      ]
     },
     "execution_count": 3,
     "metadata": {},
     "output_type": "execute_result"
    }
   ],
   "source": [
    "lista"
   ]
  },
  {
   "cell_type": "code",
   "execution_count": null,
   "id": "8973c680",
   "metadata": {},
   "outputs": [],
   "source": []
  }
 ],
 "metadata": {
  "kernelspec": {
   "display_name": "Python 3 (ipykernel)",
   "language": "python",
   "name": "python3"
  },
  "language_info": {
   "codemirror_mode": {
    "name": "ipython",
    "version": 3
   },
   "file_extension": ".py",
   "mimetype": "text/x-python",
   "name": "python",
   "nbconvert_exporter": "python",
   "pygments_lexer": "ipython3",
   "version": "3.11.4"
  }
 },
 "nbformat": 4,
 "nbformat_minor": 5
}
