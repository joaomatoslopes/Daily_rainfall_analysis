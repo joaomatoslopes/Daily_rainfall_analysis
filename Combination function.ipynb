{
 "cells": [
  {
   "cell_type": "code",
   "execution_count": 22,
   "id": "8973c680",
   "metadata": {},
   "outputs": [],
   "source": [
    "def combinations(n):\n",
    "    if n != int(n) or n < 2:\n",
    "        print(\"The input must be a natural number greater than or equal to 2\")\n",
    "    else:\n",
    "        global lista\n",
    "        import itertools\n",
    "        my_list = []\n",
    "        lista = []\n",
    "        \n",
    "        for num in range(1,n+1):\n",
    "            my_list.append(num)\n",
    "        \n",
    "        for p in range(2, n+1):\n",
    "            combinations = list(itertools.combinations(my_list, p))\n",
    "            for tup in combinations:\n",
    "                lista.append(list(tup))\n",
    "    return(lista)"
   ]
  },
  {
   "cell_type": "code",
   "execution_count": 23,
   "id": "25f9dff3",
   "metadata": {},
   "outputs": [
    {
     "data": {
      "text/plain": [
       "[[1, 2],\n",
       " [1, 3],\n",
       " [1, 4],\n",
       " [1, 5],\n",
       " [2, 3],\n",
       " [2, 4],\n",
       " [2, 5],\n",
       " [3, 4],\n",
       " [3, 5],\n",
       " [4, 5],\n",
       " [1, 2, 3],\n",
       " [1, 2, 4],\n",
       " [1, 2, 5],\n",
       " [1, 3, 4],\n",
       " [1, 3, 5],\n",
       " [1, 4, 5],\n",
       " [2, 3, 4],\n",
       " [2, 3, 5],\n",
       " [2, 4, 5],\n",
       " [3, 4, 5],\n",
       " [1, 2, 3, 4],\n",
       " [1, 2, 3, 5],\n",
       " [1, 2, 4, 5],\n",
       " [1, 3, 4, 5],\n",
       " [2, 3, 4, 5],\n",
       " [1, 2, 3, 4, 5]]"
      ]
     },
     "execution_count": 23,
     "metadata": {},
     "output_type": "execute_result"
    }
   ],
   "source": [
    "combinations(5)"
   ]
  },
  {
   "cell_type": "code",
   "execution_count": null,
   "id": "e7d7b119",
   "metadata": {},
   "outputs": [],
   "source": []
  }
 ],
 "metadata": {
  "kernelspec": {
   "display_name": "Python 3 (ipykernel)",
   "language": "python",
   "name": "python3"
  },
  "language_info": {
   "codemirror_mode": {
    "name": "ipython",
    "version": 3
   },
   "file_extension": ".py",
   "mimetype": "text/x-python",
   "name": "python",
   "nbconvert_exporter": "python",
   "pygments_lexer": "ipython3",
   "version": "3.11.4"
  }
 },
 "nbformat": 4,
 "nbformat_minor": 5
}
