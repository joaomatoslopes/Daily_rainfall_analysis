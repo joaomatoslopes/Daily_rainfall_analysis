{
 "cells": [
  {
   "cell_type": "code",
   "execution_count": 1,
   "id": "220d5b12",
   "metadata": {},
   "outputs": [],
   "source": [
    "# Importing libraries\n",
    "import pandas as pd\n",
    "import cdsapi\n",
    "import xarray as xr"
   ]
  },
  {
   "cell_type": "code",
   "execution_count": 2,
   "id": "8413dde1",
   "metadata": {},
   "outputs": [
    {
     "data": {
      "text/html": [
       "<div>\n",
       "<style scoped>\n",
       "    .dataframe tbody tr th:only-of-type {\n",
       "        vertical-align: middle;\n",
       "    }\n",
       "\n",
       "    .dataframe tbody tr th {\n",
       "        vertical-align: top;\n",
       "    }\n",
       "\n",
       "    .dataframe thead th {\n",
       "        text-align: right;\n",
       "    }\n",
       "</style>\n",
       "<table border=\"1\" class=\"dataframe\">\n",
       "  <thead>\n",
       "    <tr style=\"text-align: right;\">\n",
       "      <th></th>\n",
       "      <th>point</th>\n",
       "      <th>latitude</th>\n",
       "      <th>longitude</th>\n",
       "    </tr>\n",
       "  </thead>\n",
       "  <tbody>\n",
       "    <tr>\n",
       "      <th>0</th>\n",
       "      <td>0</td>\n",
       "      <td>42.2</td>\n",
       "      <td>-8.2</td>\n",
       "    </tr>\n",
       "    <tr>\n",
       "      <th>1</th>\n",
       "      <td>1</td>\n",
       "      <td>42.1</td>\n",
       "      <td>-8.6</td>\n",
       "    </tr>\n",
       "    <tr>\n",
       "      <th>2</th>\n",
       "      <td>2</td>\n",
       "      <td>42.1</td>\n",
       "      <td>-8.5</td>\n",
       "    </tr>\n",
       "    <tr>\n",
       "      <th>3</th>\n",
       "      <td>3</td>\n",
       "      <td>42.1</td>\n",
       "      <td>-8.4</td>\n",
       "    </tr>\n",
       "    <tr>\n",
       "      <th>4</th>\n",
       "      <td>4</td>\n",
       "      <td>42.1</td>\n",
       "      <td>-8.3</td>\n",
       "    </tr>\n",
       "    <tr>\n",
       "      <th>...</th>\n",
       "      <td>...</td>\n",
       "      <td>...</td>\n",
       "      <td>...</td>\n",
       "    </tr>\n",
       "    <tr>\n",
       "      <th>1007</th>\n",
       "      <td>1058</td>\n",
       "      <td>37.1</td>\n",
       "      <td>-7.8</td>\n",
       "    </tr>\n",
       "    <tr>\n",
       "      <th>1008</th>\n",
       "      <td>1059</td>\n",
       "      <td>37.1</td>\n",
       "      <td>-7.7</td>\n",
       "    </tr>\n",
       "    <tr>\n",
       "      <th>1009</th>\n",
       "      <td>1062</td>\n",
       "      <td>37.0</td>\n",
       "      <td>-8.0</td>\n",
       "    </tr>\n",
       "    <tr>\n",
       "      <th>1010</th>\n",
       "      <td>1063</td>\n",
       "      <td>37.0</td>\n",
       "      <td>-7.9</td>\n",
       "    </tr>\n",
       "    <tr>\n",
       "      <th>1011</th>\n",
       "      <td>1064</td>\n",
       "      <td>37.0</td>\n",
       "      <td>-7.8</td>\n",
       "    </tr>\n",
       "  </tbody>\n",
       "</table>\n",
       "<p>1012 rows × 3 columns</p>\n",
       "</div>"
      ],
      "text/plain": [
       "      point  latitude  longitude\n",
       "0         0      42.2       -8.2\n",
       "1         1      42.1       -8.6\n",
       "2         2      42.1       -8.5\n",
       "3         3      42.1       -8.4\n",
       "4         4      42.1       -8.3\n",
       "...     ...       ...        ...\n",
       "1007   1058      37.1       -7.8\n",
       "1008   1059      37.1       -7.7\n",
       "1009   1062      37.0       -8.0\n",
       "1010   1063      37.0       -7.9\n",
       "1011   1064      37.0       -7.8\n",
       "\n",
       "[1012 rows x 3 columns]"
      ]
     },
     "execution_count": 2,
     "metadata": {},
     "output_type": "execute_result"
    }
   ],
   "source": [
    "# Importing coordinates\n",
    "local = pd.read_csv(r\"C:\\Users\\joaoa\\Desktop\\Doutoramento\\Download ERA5\\local.cvs\")\n",
    "local"
   ]
  },
  {
   "cell_type": "code",
   "execution_count": null,
   "id": "272c3939",
   "metadata": {},
   "outputs": [
    {
     "name": "stderr",
     "output_type": "stream",
     "text": [
      "2024-07-29 19:45:23,352 INFO Welcome to the CDS.\n",
      " As per our announcements on the Forum, this instance of CDS will soon be decommissioned.\n",
      " Please update your cdsapi package to a version >=0.7.0, create an account on CDS-Beta and update your .cdsapirc file. We strongly recommend users to check our Guidelines at https://confluence.ecmwf.int/x/uINmFw\n",
      " The current legacy system will be kept for a while, but we will reduce resources gradually until full decommissioning in September 2024.\n",
      "2024-07-29 19:45:23,356 WARNING MOVE TO CDS-Beta\n",
      "2024-07-29 19:45:23,356 INFO Sending request to https://cds.climate.copernicus.eu/api/v2/resources/reanalysis-era5-land\n",
      "2024-07-29 19:45:23,723 INFO Request is completed\n",
      "2024-07-29 19:45:23,723 INFO Downloading https://download-0005-clone.copernicus-climate.eu/cache-compute-0005/cache/data0/adaptor.mars.internal-1722243991.4712944-10653-9-f2799522-8bfe-45f4-8921-da9eafd848c7.nc to era5land_2005.nc (29.3M)\n",
      "2024-07-29 19:45:53,407 INFO Download rate 1009.3K/s\n"
     ]
    },
    {
     "name": "stdout",
     "output_type": "stream",
     "text": [
      "era5land_2005.nc downloaded.\n"
     ]
    },
    {
     "name": "stderr",
     "output_type": "stream",
     "text": [
      "2024-07-29 19:48:11,379 INFO Welcome to the CDS.\n",
      " As per our announcements on the Forum, this instance of CDS will soon be decommissioned.\n",
      " Please update your cdsapi package to a version >=0.7.0, create an account on CDS-Beta and update your .cdsapirc file. We strongly recommend users to check our Guidelines at https://confluence.ecmwf.int/x/uINmFw\n",
      " The current legacy system will be kept for a while, but we will reduce resources gradually until full decommissioning in September 2024.\n",
      "2024-07-29 19:48:11,379 WARNING MOVE TO CDS-Beta\n",
      "2024-07-29 19:48:11,379 INFO Sending request to https://cds.climate.copernicus.eu/api/v2/resources/reanalysis-era5-land\n",
      "2024-07-29 19:48:11,955 INFO Request is queued\n",
      "2024-07-29 19:48:25,637 INFO Request is running\n",
      "2024-07-29 20:18:44,905 INFO Request is completed\n",
      "2024-07-29 20:18:44,908 INFO Downloading https://download-0004-clone.copernicus-climate.eu/cache-compute-0004/cache/data9/adaptor.mars.internal-1722280682.9055238-17409-10-e14ac776-7f4d-4485-994f-2c3cc4f4f319.nc to era5land_2006.nc (29.3M)\n",
      "2024-07-29 20:19:07,716 INFO Download rate 1.3M/s   \n"
     ]
    },
    {
     "name": "stdout",
     "output_type": "stream",
     "text": [
      "era5land_2006.nc downloaded.\n"
     ]
    },
    {
     "name": "stderr",
     "output_type": "stream",
     "text": [
      "2024-07-29 20:21:23,779 INFO Welcome to the CDS.\n",
      " As per our announcements on the Forum, this instance of CDS will soon be decommissioned.\n",
      " Please update your cdsapi package to a version >=0.7.0, create an account on CDS-Beta and update your .cdsapirc file. We strongly recommend users to check our Guidelines at https://confluence.ecmwf.int/x/uINmFw\n",
      " The current legacy system will be kept for a while, but we will reduce resources gradually until full decommissioning in September 2024.\n",
      "2024-07-29 20:21:23,779 WARNING MOVE TO CDS-Beta\n",
      "2024-07-29 20:21:23,784 INFO Sending request to https://cds.climate.copernicus.eu/api/v2/resources/reanalysis-era5-land\n",
      "2024-07-29 20:21:24,359 INFO Request is queued\n",
      "2024-07-29 20:21:33,463 INFO Request is running\n",
      "2024-07-29 20:49:58,285 INFO Request is completed\n",
      "2024-07-29 20:49:58,287 INFO Downloading https://download-0010-clone.copernicus-climate.eu/cache-compute-0010/cache/data4/adaptor.mars.internal-1722282515.4834306-6050-2-f5332a63-8c38-40cc-91d2-bd3b42587af8.nc to era5land_2007.nc (29.3M)\n",
      "2024-07-29 20:50:16,235 INFO Download rate 1.6M/s   \n"
     ]
    },
    {
     "name": "stdout",
     "output_type": "stream",
     "text": [
      "era5land_2007.nc downloaded.\n"
     ]
    },
    {
     "name": "stderr",
     "output_type": "stream",
     "text": [
      "2024-07-29 20:52:48,830 INFO Welcome to the CDS.\n",
      " As per our announcements on the Forum, this instance of CDS will soon be decommissioned.\n",
      " Please update your cdsapi package to a version >=0.7.0, create an account on CDS-Beta and update your .cdsapirc file. We strongly recommend users to check our Guidelines at https://confluence.ecmwf.int/x/uINmFw\n",
      " The current legacy system will be kept for a while, but we will reduce resources gradually until full decommissioning in September 2024.\n",
      "2024-07-29 20:52:48,832 WARNING MOVE TO CDS-Beta\n",
      "2024-07-29 20:52:48,833 INFO Sending request to https://cds.climate.copernicus.eu/api/v2/resources/reanalysis-era5-land\n",
      "2024-07-29 20:52:49,394 INFO Request is queued\n",
      "2024-07-29 20:53:22,797 INFO Request is running\n",
      "2024-07-29 21:25:21,869 INFO Request is completed\n",
      "2024-07-29 21:25:21,880 INFO Downloading https://download-0014-clone.copernicus-climate.eu/cache-compute-0014/cache/data3/adaptor.mars.internal-1722284586.3594902-6654-17-5edb1f4e-5604-43fa-b6d4-48eb0feee64d.nc to era5land_2008.nc (29.3M)\n",
      "2024-07-29 21:25:50,240 INFO Download rate 1M/s     \n"
     ]
    },
    {
     "name": "stdout",
     "output_type": "stream",
     "text": [
      "era5land_2008.nc downloaded.\n"
     ]
    },
    {
     "name": "stderr",
     "output_type": "stream",
     "text": [
      "2024-07-29 21:28:21,610 INFO Welcome to the CDS.\n",
      " As per our announcements on the Forum, this instance of CDS will soon be decommissioned.\n",
      " Please update your cdsapi package to a version >=0.7.0, create an account on CDS-Beta and update your .cdsapirc file. We strongly recommend users to check our Guidelines at https://confluence.ecmwf.int/x/uINmFw\n",
      " The current legacy system will be kept for a while, but we will reduce resources gradually until full decommissioning in September 2024.\n",
      "2024-07-29 21:28:21,617 WARNING MOVE TO CDS-Beta\n",
      "2024-07-29 21:28:21,618 INFO Sending request to https://cds.climate.copernicus.eu/api/v2/resources/reanalysis-era5-land\n",
      "2024-07-29 21:28:21,745 INFO Request is queued\n",
      "2024-07-29 21:29:37,753 INFO Request is running\n",
      "2024-07-29 22:04:52,710 INFO Request is completed\n",
      "2024-07-29 22:04:52,715 INFO Downloading https://download-0006-clone.copernicus-climate.eu/cache-compute-0006/cache/data6/adaptor.mars.internal-1722286994.0243163-14789-2-b527b9ff-fbf7-4f81-ab40-887cdd9bcc6d.nc to era5land_2009.nc (29.3M)\n",
      "2024-07-29 22:05:53,946 WARNING Connection error: [HTTPSConnectionPool(host='download-0006-clone.copernicus-climate.eu', port=443): Read timed out. (read timeout=60)]. Attempt 1 of 500.\n",
      "2024-07-29 22:05:53,947 WARNING Retrying in 120 seconds\n",
      "2024-07-29 22:07:53,949 INFO Retrying now...\n",
      "2024-07-29 22:08:10,910 INFO Download rate 151.2K/s \n"
     ]
    },
    {
     "name": "stdout",
     "output_type": "stream",
     "text": [
      "era5land_2009.nc downloaded.\n"
     ]
    },
    {
     "name": "stderr",
     "output_type": "stream",
     "text": [
      "2024-07-29 22:10:46,537 INFO Welcome to the CDS.\n",
      " As per our announcements on the Forum, this instance of CDS will soon be decommissioned.\n",
      " Please update your cdsapi package to a version >=0.7.0, create an account on CDS-Beta and update your .cdsapirc file. We strongly recommend users to check our Guidelines at https://confluence.ecmwf.int/x/uINmFw\n",
      " The current legacy system will be kept for a while, but we will reduce resources gradually until full decommissioning in September 2024.\n",
      "2024-07-29 22:10:46,541 WARNING MOVE TO CDS-Beta\n",
      "2024-07-29 22:10:46,543 INFO Sending request to https://cds.climate.copernicus.eu/api/v2/resources/reanalysis-era5-land\n",
      "2024-07-29 22:10:46,708 INFO Request is queued\n",
      "2024-07-29 22:10:49,717 INFO Request is running\n",
      "2024-07-29 22:22:08,668 WARNING Connection error: [HTTPSConnectionPool(host='cds.climate.copernicus.eu', port=443): Read timed out. (read timeout=60)]. Attempt 1 of 500.\n",
      "2024-07-29 22:22:08,671 WARNING Retrying in 120 seconds\n"
     ]
    }
   ],
   "source": [
    "c = cdsapi.Client(url = \"https://cds.climate.copernicus.eu/api/v2\", key = \"326394:498ac7d2-f60f-406e-a2b0-34943dc3848f\")\n",
    "\n",
    "for year in range(2005,2023):\n",
    "    \n",
    "    \n",
    "    # Importing data from ERA5\n",
    "    \n",
    "    c.retrieve(\n",
    "    'reanalysis-era5-land',\n",
    "    {\n",
    "        'variable': [\n",
    "            'total_precipitation',\n",
    "        ],\n",
    "        'year': [\n",
    "            str(year),\n",
    "        ],\n",
    "        'month': [\n",
    "            '01', '02', '03', '04', '05', '06',\n",
    "            '07', '08', '09', '10', '11', '12',\n",
    "        ],\n",
    "        'day': [\n",
    "            '01', '02', '03', '04', '05', '06',\n",
    "            '07', '08', '09', '10', '11', '12',\n",
    "            '13', '14', '15', '16', '17', '18',\n",
    "            '19', '20', '21', '22', '23', '24',\n",
    "            '25', '26', '27', '28', '29', '30',\n",
    "            '31',\n",
    "        ],\n",
    "        'time': [\n",
    "            '00:00', '01:00', '02:00', '03:00', '04:00', '05:00',\n",
    "            '06:00', '07:00', '08:00', '09:00', '10:00', '11:00',\n",
    "            '12:00', '13:00', '14:00', '15:00', '16:00', '17:00',\n",
    "            '18:00', '19:00', '20:00', '21:00', '22:00', '23:00',\n",
    "        ],\n",
    "        'area': [\n",
    "            37, \n",
    "            -9.4, \n",
    "            42.2, \n",
    "            -6.2,\n",
    "        ],\n",
    "        'format': 'netcdf',\n",
    "    },\n",
    "    'era5land_' + str(year) + '.nc')\n",
    "\n",
    "    print('era5land_' + str(year) + '.nc' + ' downloaded.')\n",
    "    \n",
    "    \n",
    "    # Cleaning data and saving it as csv file\n",
    "    \n",
    "    ds = xr.open_dataset(r\"C:\\Users\\joaoa\\Desktop\\Doutoramento\\Download ERA5\\era5land_\" + str(year) + \".nc\")\n",
    "    df = ds.to_dataframe()\n",
    "    df = df.reset_index()\n",
    "    df[\"longitude\"] = round(df[\"longitude\"], 1)\n",
    "    df[\"latitude\"] = round(df[\"latitude\"], 1)\n",
    "    df[\"point\"] = -1\n",
    "\n",
    "    for row in range(0,len(local)):\n",
    "        df.loc[(df[\"latitude\"] == local.loc[row, \"latitude\"]) & (df[\"longitude\"] == local.loc[row, \"longitude\"]), \"point\"] = local.loc[row, \"point\"]\n",
    "\n",
    "    df = df[df[\"point\"] >= 0]\n",
    "    df = df.sort_values(by=[\"point\", \"time\"])\n",
    "    df = df.rename(columns={\"tp\": \"precipitation\"})\n",
    "    df = df[[\"point\", \"latitude\", \"longitude\", \"time\", \"precipitation\"]]\n",
    "    df = df[(df[\"time\"].dt.month != 2) | (df[\"time\"].dt.day != 29)]\n",
    "    df = df.reset_index(drop = True)\n",
    "\n",
    "    if df.isnull().sum().sum() == 0 and len(df) == 8865120:\n",
    "        df.to_csv(r\"D:\\Precipitation\\by_year\\era5land_\" + str(year) + \".csv\", compression = \"zip\", index = False)"
   ]
  },
  {
   "cell_type": "code",
   "execution_count": null,
   "id": "2ce2fa9b",
   "metadata": {},
   "outputs": [],
   "source": []
  },
  {
   "cell_type": "code",
   "execution_count": null,
   "id": "bbb2840b",
   "metadata": {},
   "outputs": [],
   "source": []
  },
  {
   "cell_type": "code",
   "execution_count": null,
   "id": "07049f40",
   "metadata": {},
   "outputs": [],
   "source": []
  },
  {
   "cell_type": "code",
   "execution_count": null,
   "id": "d9b1189d",
   "metadata": {},
   "outputs": [],
   "source": [
    "Y = range(1950, 2024)\n",
    "\n",
    "# Creating dataframe columns\n",
    "col_list = [\"point\", \"latitude\", \"longitude\", \"time\", \"precipitation\"]\n",
    "\n",
    "for row in range(0, len(local)):\n",
    "    col_list.append('P' + (4-len(str(local.iloc[row,0])))*'0' + str(local.iloc[row,0]))\n",
    "\n",
    "df_2 = pd.DataFrame(columns = col_list)\n",
    "\n",
    "# Creating a dataframe contempling the time interval\n",
    "for year in Y:\n",
    "    aux = pd.read_csv(r\"D:\\Precipitation\\by_year\\era5land_\" + str(year) + \".csv\", compression = \"zip\")\n",
    "    df_2 = pd.concat([df_2, aux[aux[\"point\"] == 0]], axis = 0)\n",
    "\n",
    "col_list.remove(\"point\")\n",
    "col_list.remove(\"latitude\")\n",
    "col_list.remove(\"longitude\")\n",
    "col_list.remove(\"precipitation\")\n",
    "df_2 = df_2[col_list]\n",
    "df_2 = df_2.reset_index(drop = True)\n",
    "df_2"
   ]
  },
  {
   "cell_type": "code",
   "execution_count": null,
   "id": "cdb59536",
   "metadata": {},
   "outputs": [],
   "source": [
    "# Filling the dataframe\n",
    "i = 0\n",
    "length = 0\n",
    "\n",
    "for year in Y:\n",
    "    aux = pd.read_csv(r\"D:\\Precipitation\\by_year\\era5land_\" + str(year) + \".csv\", compression = \"zip\")\n",
    "    \n",
    "    i += length\n",
    "    length = int(len(aux)/1012)\n",
    "    \n",
    "    for point in range(0, 1012):\n",
    "        df_2.iloc[i:(i + length), point+1] = aux.iloc[(point*length):((point+1)*length), 4]\n",
    "\n",
    "df_2"
   ]
  },
  {
   "cell_type": "code",
   "execution_count": null,
   "id": "cc0f44fe",
   "metadata": {},
   "outputs": [],
   "source": [
    "df_2.to_csv(r\"D:\\Precipitation\\all_years_compressed.csv\", compression = \"zip\", index = False)\n",
    "df_2.to_csv(r\"D:\\Precipitation\\all_years.csv\", index = False)"
   ]
  },
  {
   "cell_type": "code",
   "execution_count": null,
   "id": "aa4d84d3",
   "metadata": {},
   "outputs": [],
   "source": []
  }
 ],
 "metadata": {
  "kernelspec": {
   "display_name": "Python 3 (ipykernel)",
   "language": "python",
   "name": "python3"
  },
  "language_info": {
   "codemirror_mode": {
    "name": "ipython",
    "version": 3
   },
   "file_extension": ".py",
   "mimetype": "text/x-python",
   "name": "python",
   "nbconvert_exporter": "python",
   "pygments_lexer": "ipython3",
   "version": "3.11.4"
  }
 },
 "nbformat": 4,
 "nbformat_minor": 5
}
