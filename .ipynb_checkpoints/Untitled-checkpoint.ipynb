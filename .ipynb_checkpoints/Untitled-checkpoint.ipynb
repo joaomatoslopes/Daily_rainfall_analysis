{
 "cells": [
  {
   "cell_type": "code",
   "execution_count": 10,
   "id": "b46b532d",
   "metadata": {},
   "outputs": [
    {
     "name": "stderr",
     "output_type": "stream",
     "text": [
      "2024-07-23 11:20:47,682 INFO Welcome to the CDS\n",
      "2024-07-23 11:20:47,683 INFO Sending request to https://cds.climate.copernicus.eu/api/v2/resources/reanalysis-era5-land\n",
      "2024-07-23 11:20:47,811 INFO Request is queued\n",
      "2024-07-23 11:21:01,343 INFO Request is running\n",
      "2024-07-23 11:27:06,698 INFO Request is completed\n",
      "2024-07-23 11:27:06,699 INFO Downloading https://download-0012-clone.copernicus-climate.eu/cache-compute-0012/cache/data0/adaptor.mars.internal-1721730318.438168-28969-5-05169deb-42e8-4c9c-800b-8ac63b9af793.nc to era5land_1970.nc (264.2K)\n",
      "2024-07-23 11:27:07,333 INFO Download rate 417.5K/s\n"
     ]
    },
    {
     "name": "stdout",
     "output_type": "stream",
     "text": [
      "era5land_1970.nc downloaded.\n"
     ]
    }
   ],
   "source": [
    "import cdsapi\n",
    "\n",
    "c = cdsapi.Client(url = \"https://cds.climate.copernicus.eu/api/v2\", key = \"326394:498ac7d2-f60f-406e-a2b0-34943dc3848f\")\n",
    "\n",
    "for year in range(1970,1971):\n",
    "    c.retrieve(\n",
    "    'reanalysis-era5-land',\n",
    "    {\n",
    "        'variable': [\n",
    "            'total_precipitation',\n",
    "        ],\n",
    "        'year': str(year),\n",
    "        'month': [\n",
    "            '01', '02', '03',\n",
    "            '04', '05', '06',\n",
    "            '07', '08', '09',\n",
    "            '10', '11', '12',\n",
    "        ],\n",
    "        'day': [\n",
    "            '01', '02', '03',\n",
    "            '04', '05', '06',\n",
    "            '07', '08', '09',\n",
    "            '10', '11', '12',\n",
    "            '13', '14', '15',\n",
    "            '16', '17', '18',\n",
    "            '19', '20', '21',\n",
    "            '22', '23', '24',\n",
    "            '25', '26', '27',\n",
    "            '28', '29', '30',\n",
    "            '31',\n",
    "        ],\n",
    "        'time': [\n",
    "            '00:00', '01:00', '02:00',\n",
    "\n",
    "        ],\n",
    "        'area': [\n",
    "            39, -8, 40, -7, # \"lat_min, lon_min, lat_max, lon_max\"\n",
    "        ],\n",
    "        'format': 'netcdf',\n",
    "    },\n",
    "    'era5land_' + str(year) + '.nc')\n",
    "\n",
    "    print('era5land_' + str(year) + '.nc' + ' downloaded.')"
   ]
  },
  {
   "cell_type": "code",
   "execution_count": 11,
   "id": "d914119a",
   "metadata": {},
   "outputs": [
    {
     "data": {
      "text/html": [
       "<div>\n",
       "<style scoped>\n",
       "    .dataframe tbody tr th:only-of-type {\n",
       "        vertical-align: middle;\n",
       "    }\n",
       "\n",
       "    .dataframe tbody tr th {\n",
       "        vertical-align: top;\n",
       "    }\n",
       "\n",
       "    .dataframe thead th {\n",
       "        text-align: right;\n",
       "    }\n",
       "</style>\n",
       "<table border=\"1\" class=\"dataframe\">\n",
       "  <thead>\n",
       "    <tr style=\"text-align: right;\">\n",
       "      <th></th>\n",
       "      <th></th>\n",
       "      <th></th>\n",
       "      <th>tp</th>\n",
       "    </tr>\n",
       "    <tr>\n",
       "      <th>longitude</th>\n",
       "      <th>latitude</th>\n",
       "      <th>time</th>\n",
       "      <th></th>\n",
       "    </tr>\n",
       "  </thead>\n",
       "  <tbody>\n",
       "    <tr>\n",
       "      <th rowspan=\"5\" valign=\"top\">-8.0</th>\n",
       "      <th rowspan=\"5\" valign=\"top\">40.0</th>\n",
       "      <th>1970-01-01 00:00:00</th>\n",
       "      <td>0.012728</td>\n",
       "    </tr>\n",
       "    <tr>\n",
       "      <th>1970-01-01 01:00:00</th>\n",
       "      <td>0.000060</td>\n",
       "    </tr>\n",
       "    <tr>\n",
       "      <th>1970-01-01 02:00:00</th>\n",
       "      <td>0.000109</td>\n",
       "    </tr>\n",
       "    <tr>\n",
       "      <th>1970-01-02 00:00:00</th>\n",
       "      <td>0.000226</td>\n",
       "    </tr>\n",
       "    <tr>\n",
       "      <th>1970-01-02 01:00:00</th>\n",
       "      <td>0.000000</td>\n",
       "    </tr>\n",
       "    <tr>\n",
       "      <th>...</th>\n",
       "      <th>...</th>\n",
       "      <th>...</th>\n",
       "      <td>...</td>\n",
       "    </tr>\n",
       "    <tr>\n",
       "      <th rowspan=\"5\" valign=\"top\">-7.0</th>\n",
       "      <th rowspan=\"5\" valign=\"top\">39.0</th>\n",
       "      <th>1970-12-30 01:00:00</th>\n",
       "      <td>0.000288</td>\n",
       "    </tr>\n",
       "    <tr>\n",
       "      <th>1970-12-30 02:00:00</th>\n",
       "      <td>0.000503</td>\n",
       "    </tr>\n",
       "    <tr>\n",
       "      <th>1970-12-31 00:00:00</th>\n",
       "      <td>0.001249</td>\n",
       "    </tr>\n",
       "    <tr>\n",
       "      <th>1970-12-31 01:00:00</th>\n",
       "      <td>0.000000</td>\n",
       "    </tr>\n",
       "    <tr>\n",
       "      <th>1970-12-31 02:00:00</th>\n",
       "      <td>0.000000</td>\n",
       "    </tr>\n",
       "  </tbody>\n",
       "</table>\n",
       "<p>132495 rows × 1 columns</p>\n",
       "</div>"
      ],
      "text/plain": [
       "                                              tp\n",
       "longitude latitude time                         \n",
       "-8.0      40.0     1970-01-01 00:00:00  0.012728\n",
       "                   1970-01-01 01:00:00  0.000060\n",
       "                   1970-01-01 02:00:00  0.000109\n",
       "                   1970-01-02 00:00:00  0.000226\n",
       "                   1970-01-02 01:00:00  0.000000\n",
       "...                                          ...\n",
       "-7.0      39.0     1970-12-30 01:00:00  0.000288\n",
       "                   1970-12-30 02:00:00  0.000503\n",
       "                   1970-12-31 00:00:00  0.001249\n",
       "                   1970-12-31 01:00:00  0.000000\n",
       "                   1970-12-31 02:00:00  0.000000\n",
       "\n",
       "[132495 rows x 1 columns]"
      ]
     },
     "execution_count": 11,
     "metadata": {},
     "output_type": "execute_result"
    }
   ],
   "source": [
    "import xarray as xr\n",
    "ds = xr.open_dataset(r\"C:\\Users\\joaoa\\Desktop\\Doutoramento\\Daily_rainfall_analysis\\era5land_1970.nc\")\n",
    "df = ds.to_dataframe()\n",
    "df"
   ]
  },
  {
   "cell_type": "code",
   "execution_count": 8,
   "id": "d48bbb12",
   "metadata": {},
   "outputs": [
    {
     "data": {
      "text/plain": [
       "484.0"
      ]
     },
     "execution_count": 8,
     "metadata": {},
     "output_type": "execute_result"
    }
   ],
   "source": [
    "176660/365"
   ]
  },
  {
   "cell_type": "code",
   "execution_count": 9,
   "id": "ba8c48be",
   "metadata": {},
   "outputs": [
    {
     "data": {
      "text/plain": [
       "121.0"
      ]
     },
     "execution_count": 9,
     "metadata": {},
     "output_type": "execute_result"
    }
   ],
   "source": [
    "484/2/2"
   ]
  },
  {
   "cell_type": "code",
   "execution_count": null,
   "id": "24789cc4",
   "metadata": {},
   "outputs": [],
   "source": [
    "121"
   ]
  }
 ],
 "metadata": {
  "kernelspec": {
   "display_name": "Python 3 (ipykernel)",
   "language": "python",
   "name": "python3"
  },
  "language_info": {
   "codemirror_mode": {
    "name": "ipython",
    "version": 3
   },
   "file_extension": ".py",
   "mimetype": "text/x-python",
   "name": "python",
   "nbconvert_exporter": "python",
   "pygments_lexer": "ipython3",
   "version": "3.11.4"
  }
 },
 "nbformat": 4,
 "nbformat_minor": 5
}
