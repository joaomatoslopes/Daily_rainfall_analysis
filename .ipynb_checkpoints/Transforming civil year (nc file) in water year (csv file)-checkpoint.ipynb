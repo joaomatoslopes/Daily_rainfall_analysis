{
 "cells": [
  {
   "cell_type": "code",
   "execution_count": null,
   "id": "5a9c184f",
   "metadata": {},
   "outputs": [],
   "source": [
    "# Importing libraries\n",
    "import pandas as pd\n",
    "import cdsapi\n",
    "import xarray as xr\n",
    "import numpy as np\n",
    "import time"
   ]
  },
  {
   "cell_type": "code",
   "execution_count": null,
   "id": "51542d9c",
   "metadata": {},
   "outputs": [],
   "source": [
    "# Importing coordinates\n",
    "local = pd.read_csv(r\"C:\\Users\\joaoa\\Desktop\\Doutoramento\\Download ERA5\\local.cvs\")\n",
    "local"
   ]
  },
  {
   "cell_type": "code",
   "execution_count": null,
   "id": "2ce182f7",
   "metadata": {},
   "outputs": [],
   "source": [
    "# Creating columns\n",
    "col_list = [\"time\"]\n",
    "\n",
    "for row in range(0, len(local)):\n",
    "    col_list.append('P' + (4-len(str(local.iloc[row,0])))*'0' + str(local.iloc[row,0]))\n",
    "\n",
    "    \n",
    "# Cleaning data and filtering dates\n",
    "Y = range(1950, 1953) #2023\n",
    "P = range(0, 3) #1012\n",
    "df = pd.DataFrame()\n",
    "\n",
    "for year in Y: \n",
    "    \n",
    "    y1 = df\n",
    "    \n",
    "    ds = xr.open_dataset(r\"D:\\Precipitation\\by_civil_year\\Ficheiros NC\\era5land_\" + str(year) + \".nc\")\n",
    "    df = ds.to_dataframe()\n",
    "    df = df.reset_index()\n",
    "    df[\"longitude\"] = round(df[\"longitude\"], 1)\n",
    "    df[\"latitude\"] = round(df[\"latitude\"], 1)\n",
    "    df[\"point\"] = -1\n",
    "    \n",
    "    for row in range(0, len(local)):\n",
    "        df.loc[(df[\"latitude\"] == local.loc[row, \"latitude\"]) & (df[\"longitude\"] == local.loc[row, \"longitude\"]), \"point\"] = local.loc[row, \"point\"]\n",
    "\n",
    "    df = df[df[\"point\"] >= 0]\n",
    "    df = df.sort_values(by=[\"point\", \"time\"])\n",
    "    df = df.rename(columns={\"tp\": \"precipitation\"})\n",
    "    df = df[[\"point\", \"latitude\", \"longitude\", \"time\", \"precipitation\"]]\n",
    "    \n",
    "    if year == 1950:\n",
    "        df = df[(df[\"time\"].dt.month >= 10) & ((df[\"time\"].dt.month > 10) | (df[\"time\"].dt.day > 1) | (df[\"time\"].dt.hour > 0))]\n",
    "    elif year == 2023:\n",
    "        df = df[(df[\"time\"].dt.month < 10) | ((df[\"time\"].dt.month == 10) & (df[\"time\"].dt.day == 1) & (df[\"time\"].dt.hour == 0))]\n",
    "    else:\n",
    "        df = df[(df[\"time\"].dt.month != 2) | (df[\"time\"].dt.day != 29)]\n",
    "        \n",
    "    df = df.reset_index(drop = True)\n",
    "    y2 = df\n",
    "    \n",
    "    \n",
    "    # Creating and saving water years\n",
    "    if year > 1950:\n",
    "        i = time.time()\n",
    "        \n",
    "        df_wy = pd.DataFrame(index = range(0, 8760), columns = col_list)\n",
    "        df_wy.iloc[:2207, 0] = y1.iloc[-2207:, 3]\n",
    "        df_wy.iloc[-6553:, 0] = y2.iloc[:6553, 3]\n",
    "        \n",
    "        for point in P:\n",
    "            df_wy.iloc[:2207, point+1] = y1.loc[y1[\"point\"] == local.iloc[point, 0]].iloc[-2207:, 4]\n",
    "            df_wy.iloc[-6553:, point+1] = y2.loc[y2[\"point\"] == local.iloc[point, 0]].iloc[:6553, 4]\n",
    "        \n",
    "        \n",
    "        #df_wy.to_csv(r\"D:\\Precipitation\\Total_precipitation_by_water_year_(mm)\\era5land_precipitation_\" + str(year-1) + \"_\" + str(year) + \".csv\", compression = \"zip\", index = False)\n",
    "        #print(\"Water year \" + str(year-1) + \"_\" + str(year) + \" downloaded. Time: \" + str(int(time.time()-i)) + \" seconds.\")\n",
    "\n",
    "df_wy"
   ]
  },
  {
   "cell_type": "code",
   "execution_count": null,
   "id": "33d15a7b",
   "metadata": {},
   "outputs": [],
   "source": []
  }
 ],
 "metadata": {
  "kernelspec": {
   "display_name": "Python 3 (ipykernel)",
   "language": "python",
   "name": "python3"
  },
  "language_info": {
   "codemirror_mode": {
    "name": "ipython",
    "version": 3
   },
   "file_extension": ".py",
   "mimetype": "text/x-python",
   "name": "python",
   "nbconvert_exporter": "python",
   "pygments_lexer": "ipython3",
   "version": "3.11.4"
  }
 },
 "nbformat": 4,
 "nbformat_minor": 5
}
